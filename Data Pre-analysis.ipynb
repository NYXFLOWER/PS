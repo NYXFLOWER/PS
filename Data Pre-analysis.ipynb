{
 "cells": [
  {
   "cell_type": "markdown",
   "metadata": {
    "toc": true
   },
   "source": [
    "<h1>Table of Contents<span class=\"tocSkip\"></span></h1>\n",
    "<div class=\"toc\"><ul class=\"toc-item\"><li><span><a href=\"#Feature-Co-relationship-Analysis\" data-toc-modified-id=\"Feature-Co-relationship-Analysis-1\"><span class=\"toc-item-num\">1&nbsp;&nbsp;</span>Feature Co-relationship Analysis</a></span></li></ul></div>"
   ]
  },
  {
   "cell_type": "markdown",
   "metadata": {},
   "source": [
    "## Feature Co-relationship Analysis"
   ]
  },
  {
   "cell_type": "code",
   "execution_count": 31,
   "metadata": {
    "pycharm": {
     "is_executing": false
    }
   },
   "outputs": [],
   "source": [
    "import pandas as pd\n",
    "import matplotlib.pyplot as plt\n",
    "import numpy as np\n",
    "import scipy.sparse as sp\n"
   ]
  },
  {
   "cell_type": "code",
   "execution_count": 17,
   "metadata": {
    "pycharm": {
     "is_executing": false
    }
   },
   "outputs": [
    {
     "name": "stdout",
     "output_type": "stream",
     "text": [
      "There ara  16082  unique proteins, and  43  features for each protein.\n"
     ]
    },
    {
     "data": {
      "text/html": [
       "<div>\n",
       "<style scoped>\n",
       "    .dataframe tbody tr th:only-of-type {\n",
       "        vertical-align: middle;\n",
       "    }\n",
       "\n",
       "    .dataframe tbody tr th {\n",
       "        vertical-align: top;\n",
       "    }\n",
       "\n",
       "    .dataframe thead th {\n",
       "        text-align: right;\n",
       "    }\n",
       "</style>\n",
       "<table border=\"1\" class=\"dataframe\">\n",
       "  <thead>\n",
       "    <tr style=\"text-align: right;\">\n",
       "      <th></th>\n",
       "      <th>Unnamed: 0</th>\n",
       "      <th>pf_cultivation_id</th>\n",
       "      <th>prest_id</th>\n",
       "      <th>aa_seq</th>\n",
       "      <th>solubility_class_1M</th>\n",
       "      <th>bio_pI</th>\n",
       "      <th>bio_mW</th>\n",
       "      <th>bio_aromaticity</th>\n",
       "      <th>bio_instability</th>\n",
       "      <th>bio_gravy</th>\n",
       "      <th>...</th>\n",
       "      <th>frac_aliphatic</th>\n",
       "      <th>frac_uncharged_polar</th>\n",
       "      <th>frac_polar</th>\n",
       "      <th>frac_hydrophobic</th>\n",
       "      <th>frac_positive</th>\n",
       "      <th>frac_sulfur</th>\n",
       "      <th>frac_negative</th>\n",
       "      <th>frac_amide</th>\n",
       "      <th>frac_alcohol</th>\n",
       "      <th>aa_len</th>\n",
       "    </tr>\n",
       "  </thead>\n",
       "  <tbody>\n",
       "    <tr>\n",
       "      <th>0</th>\n",
       "      <td>0</td>\n",
       "      <td>255</td>\n",
       "      <td>230050</td>\n",
       "      <td>QLKGRDLLTLKNFTGEEIKYMLWLSADLKFRIKQKGEYLPLLQGKS...</td>\n",
       "      <td>3.0</td>\n",
       "      <td>9.462341</td>\n",
       "      <td>11901.7288</td>\n",
       "      <td>0.075472</td>\n",
       "      <td>31.881132</td>\n",
       "      <td>-0.148113</td>\n",
       "      <td>...</td>\n",
       "      <td>0.405660</td>\n",
       "      <td>0.216981</td>\n",
       "      <td>0.301887</td>\n",
       "      <td>0.452830</td>\n",
       "      <td>0.160377</td>\n",
       "      <td>0.037736</td>\n",
       "      <td>0.103774</td>\n",
       "      <td>0.056604</td>\n",
       "      <td>0.160377</td>\n",
       "      <td>106</td>\n",
       "    </tr>\n",
       "    <tr>\n",
       "      <th>1</th>\n",
       "      <td>1</td>\n",
       "      <td>263</td>\n",
       "      <td>230548</td>\n",
       "      <td>LPYAMKPIDYYTETKILQERAVLGANDPEKNFLTTAIRPHGIFGPR...</td>\n",
       "      <td>2.0</td>\n",
       "      <td>7.105164</td>\n",
       "      <td>13574.4798</td>\n",
       "      <td>0.099174</td>\n",
       "      <td>41.680992</td>\n",
       "      <td>-0.126446</td>\n",
       "      <td>...</td>\n",
       "      <td>0.462810</td>\n",
       "      <td>0.173554</td>\n",
       "      <td>0.256198</td>\n",
       "      <td>0.528926</td>\n",
       "      <td>0.140496</td>\n",
       "      <td>0.016529</td>\n",
       "      <td>0.107438</td>\n",
       "      <td>0.082645</td>\n",
       "      <td>0.090909</td>\n",
       "      <td>121</td>\n",
       "    </tr>\n",
       "    <tr>\n",
       "      <th>2</th>\n",
       "      <td>2</td>\n",
       "      <td>364</td>\n",
       "      <td>231390</td>\n",
       "      <td>IAELGVPLSQVKSISGTAQDGNTEPLPPDSGDKNLVIQKSKDEAQD...</td>\n",
       "      <td>5.0</td>\n",
       "      <td>3.922302</td>\n",
       "      <td>12320.4143</td>\n",
       "      <td>0.025862</td>\n",
       "      <td>39.717241</td>\n",
       "      <td>-0.398276</td>\n",
       "      <td>...</td>\n",
       "      <td>0.413793</td>\n",
       "      <td>0.284483</td>\n",
       "      <td>0.318966</td>\n",
       "      <td>0.431034</td>\n",
       "      <td>0.060345</td>\n",
       "      <td>0.025862</td>\n",
       "      <td>0.189655</td>\n",
       "      <td>0.103448</td>\n",
       "      <td>0.181034</td>\n",
       "      <td>116</td>\n",
       "    </tr>\n",
       "    <tr>\n",
       "      <th>3</th>\n",
       "      <td>3</td>\n",
       "      <td>441</td>\n",
       "      <td>230501</td>\n",
       "      <td>SDSDVGSGGIRPKQPRMLQENTRMDMENEESMMSYEGDGGEASHGL...</td>\n",
       "      <td>5.0</td>\n",
       "      <td>3.805847</td>\n",
       "      <td>13537.7451</td>\n",
       "      <td>0.048780</td>\n",
       "      <td>78.778862</td>\n",
       "      <td>-1.313821</td>\n",
       "      <td>...</td>\n",
       "      <td>0.260163</td>\n",
       "      <td>0.276423</td>\n",
       "      <td>0.373984</td>\n",
       "      <td>0.276423</td>\n",
       "      <td>0.073171</td>\n",
       "      <td>0.040650</td>\n",
       "      <td>0.300813</td>\n",
       "      <td>0.073171</td>\n",
       "      <td>0.203252</td>\n",
       "      <td>123</td>\n",
       "    </tr>\n",
       "    <tr>\n",
       "      <th>4</th>\n",
       "      <td>4</td>\n",
       "      <td>521</td>\n",
       "      <td>140193</td>\n",
       "      <td>HPAYNPKNFSNDIMLLQLERKAKWTTAVRPLRLPSSKAQVKPGQLC...</td>\n",
       "      <td>4.5</td>\n",
       "      <td>9.652649</td>\n",
       "      <td>16225.6860</td>\n",
       "      <td>0.081633</td>\n",
       "      <td>24.140816</td>\n",
       "      <td>-0.330612</td>\n",
       "      <td>...</td>\n",
       "      <td>0.414966</td>\n",
       "      <td>0.231293</td>\n",
       "      <td>0.360544</td>\n",
       "      <td>0.442177</td>\n",
       "      <td>0.156463</td>\n",
       "      <td>0.054422</td>\n",
       "      <td>0.061224</td>\n",
       "      <td>0.088435</td>\n",
       "      <td>0.142857</td>\n",
       "      <td>147</td>\n",
       "    </tr>\n",
       "  </tbody>\n",
       "</table>\n",
       "<p>5 rows × 44 columns</p>\n",
       "</div>"
      ],
      "text/plain": [
       "   Unnamed: 0  pf_cultivation_id  prest_id  \\\n",
       "0           0                255    230050   \n",
       "1           1                263    230548   \n",
       "2           2                364    231390   \n",
       "3           3                441    230501   \n",
       "4           4                521    140193   \n",
       "\n",
       "                                              aa_seq  solubility_class_1M  \\\n",
       "0  QLKGRDLLTLKNFTGEEIKYMLWLSADLKFRIKQKGEYLPLLQGKS...                  3.0   \n",
       "1  LPYAMKPIDYYTETKILQERAVLGANDPEKNFLTTAIRPHGIFGPR...                  2.0   \n",
       "2  IAELGVPLSQVKSISGTAQDGNTEPLPPDSGDKNLVIQKSKDEAQD...                  5.0   \n",
       "3  SDSDVGSGGIRPKQPRMLQENTRMDMENEESMMSYEGDGGEASHGL...                  5.0   \n",
       "4  HPAYNPKNFSNDIMLLQLERKAKWTTAVRPLRLPSSKAQVKPGQLC...                  4.5   \n",
       "\n",
       "     bio_pI      bio_mW  bio_aromaticity  bio_instability  bio_gravy  ...  \\\n",
       "0  9.462341  11901.7288         0.075472        31.881132  -0.148113  ...   \n",
       "1  7.105164  13574.4798         0.099174        41.680992  -0.126446  ...   \n",
       "2  3.922302  12320.4143         0.025862        39.717241  -0.398276  ...   \n",
       "3  3.805847  13537.7451         0.048780        78.778862  -1.313821  ...   \n",
       "4  9.652649  16225.6860         0.081633        24.140816  -0.330612  ...   \n",
       "\n",
       "   frac_aliphatic  frac_uncharged_polar  frac_polar  frac_hydrophobic  \\\n",
       "0        0.405660              0.216981    0.301887          0.452830   \n",
       "1        0.462810              0.173554    0.256198          0.528926   \n",
       "2        0.413793              0.284483    0.318966          0.431034   \n",
       "3        0.260163              0.276423    0.373984          0.276423   \n",
       "4        0.414966              0.231293    0.360544          0.442177   \n",
       "\n",
       "   frac_positive  frac_sulfur  frac_negative  frac_amide  frac_alcohol  aa_len  \n",
       "0       0.160377     0.037736       0.103774    0.056604      0.160377     106  \n",
       "1       0.140496     0.016529       0.107438    0.082645      0.090909     121  \n",
       "2       0.060345     0.025862       0.189655    0.103448      0.181034     116  \n",
       "3       0.073171     0.040650       0.300813    0.073171      0.203252     123  \n",
       "4       0.156463     0.054422       0.061224    0.088435      0.142857     147  \n",
       "\n",
       "[5 rows x 44 columns]"
      ]
     },
     "execution_count": 17,
     "metadata": {},
     "output_type": "execute_result"
    }
   ],
   "source": [
    "sb = pd.read_csv('./data/DF_solubility_features.csv')\n",
    "print('There ara ', sb.shape[0], ' unique proteins, and ', sb.shape[1]-1, ' features for each protein.')\n",
    "sb.head()\n"
   ]
  },
  {
   "cell_type": "code",
   "execution_count": 26,
   "metadata": {
    "pycharm": {
     "is_executing": false
    },
    "scrolled": false
   },
   "outputs": [
    {
     "name": "stdout",
     "output_type": "stream",
     "text": [
      "Protein features:\n"
     ]
    },
    {
     "data": {
      "text/plain": [
       "array(['pf_cultivation_id', 'prest_id', 'aa_seq', 'solubility_class_1M',\n",
       "       'bio_pI', 'bio_mW', 'bio_aromaticity', 'bio_instability',\n",
       "       'bio_gravy', 'list_comp_A', 'list_comp_R', 'list_comp_N',\n",
       "       'list_comp_D', 'list_comp_C', 'list_comp_Q', 'list_comp_E',\n",
       "       'list_comp_G', 'list_comp_H', 'list_comp_I', 'list_comp_L',\n",
       "       'list_comp_K', 'list_comp_M', 'list_comp_F', 'list_comp_P',\n",
       "       'list_comp_S', 'list_comp_T', 'list_comp_W', 'list_comp_Y',\n",
       "       'list_comp_V', 'charge', 'abs_charge', 'avg_charge',\n",
       "       'abs_avg_charge', 'frac_aliphatic', 'frac_uncharged_polar',\n",
       "       'frac_polar', 'frac_hydrophobic', 'frac_positive', 'frac_sulfur',\n",
       "       'frac_negative', 'frac_amide', 'frac_alcohol', 'aa_len'],\n",
       "      dtype=object)"
      ]
     },
     "execution_count": 26,
     "metadata": {},
     "output_type": "execute_result"
    }
   ],
   "source": [
    "print('Protein features:')\n",
    "sb._info_axis.to_numpy()[1:]\n"
   ]
  },
  {
   "cell_type": "code",
   "execution_count": 85,
   "metadata": {
    "pycharm": {
     "is_executing": false,
     "name": "#%%\n"
    }
   },
   "outputs": [
    {
     "data": {
      "text/plain": [
       "pf_cultivation_id       0.029633\n",
       "prest_id                0.044070\n",
       "solubility_class_1M     1.000000\n",
       "bio_pI                  0.173016\n",
       "bio_mW                  0.197073\n",
       "bio_aromaticity         0.276186\n",
       "bio_instability         0.170542\n",
       "bio_gravy               0.239084\n",
       "list_comp_A             0.052933\n",
       "list_comp_R             0.084395\n",
       "list_comp_N             0.038067\n",
       "list_comp_D             0.056812\n",
       "list_comp_C             0.014139\n",
       "list_comp_Q             0.050873\n",
       "list_comp_E             0.026540\n",
       "list_comp_G             0.072000\n",
       "list_comp_H             0.022588\n",
       "list_comp_I             0.149693\n",
       "list_comp_L             0.136073\n",
       "list_comp_K             0.100172\n",
       "list_comp_M             0.042056\n",
       "list_comp_F             0.192740\n",
       "list_comp_P             0.181169\n",
       "list_comp_S             0.109453\n",
       "list_comp_T             0.000757\n",
       "list_comp_W             0.127324\n",
       "list_comp_Y             0.190641\n",
       "list_comp_V             0.126200\n",
       "charge                  0.123209\n",
       "abs_charge              0.063336\n",
       "avg_charge              0.108679\n",
       "abs_avg_charge          0.117979\n",
       "frac_aliphatic          0.013201\n",
       "frac_uncharged_polar    0.083133\n",
       "frac_polar              0.008107\n",
       "frac_hydrophobic        0.071841\n",
       "frac_positive           0.139282\n",
       "frac_sulfur             0.012725\n",
       "frac_negative           0.009848\n",
       "frac_amide              0.013838\n",
       "frac_alcohol            0.087318\n",
       "aa_len                  0.176159\n",
       "Name: solubility_class_1M, dtype: float64"
      ]
     },
     "execution_count": 85,
     "metadata": {},
     "output_type": "execute_result"
    },
    {
     "data": {
      "image/png": "[encoded data removed]",
      "text/plain": [
       "<Figure size 432x288 with 1 Axes>"
      ]
     },
     "metadata": {
      "needs_background": "light"
     },
     "output_type": "display_data"
    }
   ],
   "source": [
    "corr = sb.drop(['Unnamed: 0', 'aa_seq'], axis=1).astype('float').corr().abs()\n",
    "corr_axis = corr._info_axis.to_numpy()\n",
    "plt.imshow(corr, cmap='Greys')\n",
    "corr['solubility_class_1M']\n",
    "\n"
   ]
  },
  {
   "cell_type": "code",
   "execution_count": 81,
   "metadata": {
    "pycharm": {
     "is_executing": false,
     "name": "#%%\n"
    }
   },
   "outputs": [
    {
     "name": "stderr",
     "output_type": "stream",
     "text": [
      "/Users/nyxfer/anaconda3/envs/HGCN/lib/python3.6/site-packages/ipykernel_launcher.py:1: FutureWarning: Using a non-tuple sequence for multidimensional indexing is deprecated; use `arr[tuple(seq)]` instead of `arr[seq]`. In the future this will be interpreted as an array index, `arr[np.array(seq)]`, which will result either in an error or a different result.\n",
      "  \"\"\"Entry point for launching an IPython kernel.\n"
     ]
    },
    {
     "data": {
      "text/html": [
       "<div>\n",
       "<style scoped>\n",
       "    .dataframe tbody tr th:only-of-type {\n",
       "        vertical-align: middle;\n",
       "    }\n",
       "\n",
       "    .dataframe tbody tr th {\n",
       "        vertical-align: top;\n",
       "    }\n",
       "\n",
       "    .dataframe thead th {\n",
       "        text-align: right;\n",
       "    }\n",
       "</style>\n",
       "<table border=\"1\" class=\"dataframe\">\n",
       "  <thead>\n",
       "    <tr style=\"text-align: right;\">\n",
       "      <th></th>\n",
       "      <th>ind1</th>\n",
       "      <th>name1</th>\n",
       "      <th>ind2</th>\n",
       "      <th>name2</th>\n",
       "      <th>corr_score</th>\n",
       "    </tr>\n",
       "  </thead>\n",
       "  <tbody>\n",
       "    <tr>\n",
       "      <th>7</th>\n",
       "      <td>4</td>\n",
       "      <td>bio_mW</td>\n",
       "      <td>41</td>\n",
       "      <td>aa_len</td>\n",
       "      <td>0.991922</td>\n",
       "    </tr>\n",
       "    <tr>\n",
       "      <th>33</th>\n",
       "      <td>32</td>\n",
       "      <td>frac_aliphatic</td>\n",
       "      <td>35</td>\n",
       "      <td>frac_hydrophobic</td>\n",
       "      <td>0.953970</td>\n",
       "    </tr>\n",
       "    <tr>\n",
       "      <th>27</th>\n",
       "      <td>28</td>\n",
       "      <td>charge</td>\n",
       "      <td>30</td>\n",
       "      <td>avg_charge</td>\n",
       "      <td>0.941507</td>\n",
       "    </tr>\n",
       "    <tr>\n",
       "      <th>4</th>\n",
       "      <td>3</td>\n",
       "      <td>bio_pI</td>\n",
       "      <td>30</td>\n",
       "      <td>avg_charge</td>\n",
       "      <td>0.895609</td>\n",
       "    </tr>\n",
       "    <tr>\n",
       "      <th>3</th>\n",
       "      <td>3</td>\n",
       "      <td>bio_pI</td>\n",
       "      <td>28</td>\n",
       "      <td>charge</td>\n",
       "      <td>0.874033</td>\n",
       "    </tr>\n",
       "    <tr>\n",
       "      <th>30</th>\n",
       "      <td>29</td>\n",
       "      <td>abs_charge</td>\n",
       "      <td>31</td>\n",
       "      <td>abs_avg_charge</td>\n",
       "      <td>0.871772</td>\n",
       "    </tr>\n",
       "    <tr>\n",
       "      <th>25</th>\n",
       "      <td>23</td>\n",
       "      <td>list_comp_S</td>\n",
       "      <td>40</td>\n",
       "      <td>frac_alcohol</td>\n",
       "      <td>0.847489</td>\n",
       "    </tr>\n",
       "    <tr>\n",
       "      <th>21</th>\n",
       "      <td>14</td>\n",
       "      <td>list_comp_E</td>\n",
       "      <td>38</td>\n",
       "      <td>frac_negative</td>\n",
       "      <td>0.842110</td>\n",
       "    </tr>\n",
       "    <tr>\n",
       "      <th>17</th>\n",
       "      <td>12</td>\n",
       "      <td>list_comp_C</td>\n",
       "      <td>37</td>\n",
       "      <td>frac_sulfur</td>\n",
       "      <td>0.808695</td>\n",
       "    </tr>\n",
       "    <tr>\n",
       "      <th>36</th>\n",
       "      <td>33</td>\n",
       "      <td>frac_uncharged_polar</td>\n",
       "      <td>40</td>\n",
       "      <td>frac_alcohol</td>\n",
       "      <td>0.801816</td>\n",
       "    </tr>\n",
       "    <tr>\n",
       "      <th>0</th>\n",
       "      <td>0</td>\n",
       "      <td>pf_cultivation_id</td>\n",
       "      <td>1</td>\n",
       "      <td>prest_id</td>\n",
       "      <td>0.780783</td>\n",
       "    </tr>\n",
       "    <tr>\n",
       "      <th>34</th>\n",
       "      <td>33</td>\n",
       "      <td>frac_uncharged_polar</td>\n",
       "      <td>34</td>\n",
       "      <td>frac_polar</td>\n",
       "      <td>0.760854</td>\n",
       "    </tr>\n",
       "    <tr>\n",
       "      <th>18</th>\n",
       "      <td>13</td>\n",
       "      <td>list_comp_Q</td>\n",
       "      <td>39</td>\n",
       "      <td>frac_amide</td>\n",
       "      <td>0.735380</td>\n",
       "    </tr>\n",
       "    <tr>\n",
       "      <th>11</th>\n",
       "      <td>7</td>\n",
       "      <td>bio_gravy</td>\n",
       "      <td>35</td>\n",
       "      <td>frac_hydrophobic</td>\n",
       "      <td>0.713190</td>\n",
       "    </tr>\n",
       "    <tr>\n",
       "      <th>8</th>\n",
       "      <td>5</td>\n",
       "      <td>bio_aromaticity</td>\n",
       "      <td>21</td>\n",
       "      <td>list_comp_F</td>\n",
       "      <td>0.707111</td>\n",
       "    </tr>\n",
       "    <tr>\n",
       "      <th>9</th>\n",
       "      <td>5</td>\n",
       "      <td>bio_aromaticity</td>\n",
       "      <td>26</td>\n",
       "      <td>list_comp_Y</td>\n",
       "      <td>0.696183</td>\n",
       "    </tr>\n",
       "    <tr>\n",
       "      <th>32</th>\n",
       "      <td>30</td>\n",
       "      <td>avg_charge</td>\n",
       "      <td>38</td>\n",
       "      <td>frac_negative</td>\n",
       "      <td>0.686625</td>\n",
       "    </tr>\n",
       "    <tr>\n",
       "      <th>24</th>\n",
       "      <td>23</td>\n",
       "      <td>list_comp_S</td>\n",
       "      <td>33</td>\n",
       "      <td>frac_uncharged_polar</td>\n",
       "      <td>0.673328</td>\n",
       "    </tr>\n",
       "    <tr>\n",
       "      <th>29</th>\n",
       "      <td>28</td>\n",
       "      <td>charge</td>\n",
       "      <td>38</td>\n",
       "      <td>frac_negative</td>\n",
       "      <td>0.656792</td>\n",
       "    </tr>\n",
       "    <tr>\n",
       "      <th>22</th>\n",
       "      <td>19</td>\n",
       "      <td>list_comp_K</td>\n",
       "      <td>36</td>\n",
       "      <td>frac_positive</td>\n",
       "      <td>0.639897</td>\n",
       "    </tr>\n",
       "    <tr>\n",
       "      <th>10</th>\n",
       "      <td>7</td>\n",
       "      <td>bio_gravy</td>\n",
       "      <td>32</td>\n",
       "      <td>frac_aliphatic</td>\n",
       "      <td>0.635432</td>\n",
       "    </tr>\n",
       "    <tr>\n",
       "      <th>15</th>\n",
       "      <td>10</td>\n",
       "      <td>list_comp_N</td>\n",
       "      <td>39</td>\n",
       "      <td>frac_amide</td>\n",
       "      <td>0.627675</td>\n",
       "    </tr>\n",
       "    <tr>\n",
       "      <th>16</th>\n",
       "      <td>11</td>\n",
       "      <td>list_comp_D</td>\n",
       "      <td>38</td>\n",
       "      <td>frac_negative</td>\n",
       "      <td>0.619281</td>\n",
       "    </tr>\n",
       "    <tr>\n",
       "      <th>31</th>\n",
       "      <td>30</td>\n",
       "      <td>avg_charge</td>\n",
       "      <td>36</td>\n",
       "      <td>frac_positive</td>\n",
       "      <td>0.618999</td>\n",
       "    </tr>\n",
       "    <tr>\n",
       "      <th>5</th>\n",
       "      <td>3</td>\n",
       "      <td>bio_pI</td>\n",
       "      <td>36</td>\n",
       "      <td>frac_positive</td>\n",
       "      <td>0.605694</td>\n",
       "    </tr>\n",
       "    <tr>\n",
       "      <th>26</th>\n",
       "      <td>24</td>\n",
       "      <td>list_comp_T</td>\n",
       "      <td>40</td>\n",
       "      <td>frac_alcohol</td>\n",
       "      <td>0.602048</td>\n",
       "    </tr>\n",
       "    <tr>\n",
       "      <th>6</th>\n",
       "      <td>3</td>\n",
       "      <td>bio_pI</td>\n",
       "      <td>38</td>\n",
       "      <td>frac_negative</td>\n",
       "      <td>0.592789</td>\n",
       "    </tr>\n",
       "    <tr>\n",
       "      <th>37</th>\n",
       "      <td>34</td>\n",
       "      <td>frac_polar</td>\n",
       "      <td>40</td>\n",
       "      <td>frac_alcohol</td>\n",
       "      <td>0.587374</td>\n",
       "    </tr>\n",
       "    <tr>\n",
       "      <th>14</th>\n",
       "      <td>9</td>\n",
       "      <td>list_comp_R</td>\n",
       "      <td>36</td>\n",
       "      <td>frac_positive</td>\n",
       "      <td>0.579618</td>\n",
       "    </tr>\n",
       "    <tr>\n",
       "      <th>28</th>\n",
       "      <td>28</td>\n",
       "      <td>charge</td>\n",
       "      <td>36</td>\n",
       "      <td>frac_positive</td>\n",
       "      <td>0.572811</td>\n",
       "    </tr>\n",
       "    <tr>\n",
       "      <th>2</th>\n",
       "      <td>1</td>\n",
       "      <td>prest_id</td>\n",
       "      <td>41</td>\n",
       "      <td>aa_len</td>\n",
       "      <td>0.564699</td>\n",
       "    </tr>\n",
       "    <tr>\n",
       "      <th>1</th>\n",
       "      <td>1</td>\n",
       "      <td>prest_id</td>\n",
       "      <td>4</td>\n",
       "      <td>bio_mW</td>\n",
       "      <td>0.559812</td>\n",
       "    </tr>\n",
       "    <tr>\n",
       "      <th>20</th>\n",
       "      <td>14</td>\n",
       "      <td>list_comp_E</td>\n",
       "      <td>30</td>\n",
       "      <td>avg_charge</td>\n",
       "      <td>0.531727</td>\n",
       "    </tr>\n",
       "    <tr>\n",
       "      <th>23</th>\n",
       "      <td>20</td>\n",
       "      <td>list_comp_M</td>\n",
       "      <td>37</td>\n",
       "      <td>frac_sulfur</td>\n",
       "      <td>0.522747</td>\n",
       "    </tr>\n",
       "    <tr>\n",
       "      <th>35</th>\n",
       "      <td>33</td>\n",
       "      <td>frac_uncharged_polar</td>\n",
       "      <td>39</td>\n",
       "      <td>frac_amide</td>\n",
       "      <td>0.521360</td>\n",
       "    </tr>\n",
       "    <tr>\n",
       "      <th>12</th>\n",
       "      <td>7</td>\n",
       "      <td>bio_gravy</td>\n",
       "      <td>36</td>\n",
       "      <td>frac_positive</td>\n",
       "      <td>0.514380</td>\n",
       "    </tr>\n",
       "    <tr>\n",
       "      <th>19</th>\n",
       "      <td>14</td>\n",
       "      <td>list_comp_E</td>\n",
       "      <td>28</td>\n",
       "      <td>charge</td>\n",
       "      <td>0.513225</td>\n",
       "    </tr>\n",
       "    <tr>\n",
       "      <th>13</th>\n",
       "      <td>8</td>\n",
       "      <td>list_comp_A</td>\n",
       "      <td>32</td>\n",
       "      <td>frac_aliphatic</td>\n",
       "      <td>0.503825</td>\n",
       "    </tr>\n",
       "  </tbody>\n",
       "</table>\n",
       "</div>"
      ],
      "text/plain": [
       "    ind1                 name1  ind2                 name2  corr_score\n",
       "7      4                bio_mW    41                aa_len    0.991922\n",
       "33    32        frac_aliphatic    35      frac_hydrophobic    0.953970\n",
       "27    28                charge    30            avg_charge    0.941507\n",
       "4      3                bio_pI    30            avg_charge    0.895609\n",
       "3      3                bio_pI    28                charge    0.874033\n",
       "30    29            abs_charge    31        abs_avg_charge    0.871772\n",
       "25    23           list_comp_S    40          frac_alcohol    0.847489\n",
       "21    14           list_comp_E    38         frac_negative    0.842110\n",
       "17    12           list_comp_C    37           frac_sulfur    0.808695\n",
       "36    33  frac_uncharged_polar    40          frac_alcohol    0.801816\n",
       "0      0     pf_cultivation_id     1              prest_id    0.780783\n",
       "34    33  frac_uncharged_polar    34            frac_polar    0.760854\n",
       "18    13           list_comp_Q    39            frac_amide    0.735380\n",
       "11     7             bio_gravy    35      frac_hydrophobic    0.713190\n",
       "8      5       bio_aromaticity    21           list_comp_F    0.707111\n",
       "9      5       bio_aromaticity    26           list_comp_Y    0.696183\n",
       "32    30            avg_charge    38         frac_negative    0.686625\n",
       "24    23           list_comp_S    33  frac_uncharged_polar    0.673328\n",
       "29    28                charge    38         frac_negative    0.656792\n",
       "22    19           list_comp_K    36         frac_positive    0.639897\n",
       "10     7             bio_gravy    32        frac_aliphatic    0.635432\n",
       "15    10           list_comp_N    39            frac_amide    0.627675\n",
       "16    11           list_comp_D    38         frac_negative    0.619281\n",
       "31    30            avg_charge    36         frac_positive    0.618999\n",
       "5      3                bio_pI    36         frac_positive    0.605694\n",
       "26    24           list_comp_T    40          frac_alcohol    0.602048\n",
       "6      3                bio_pI    38         frac_negative    0.592789\n",
       "37    34            frac_polar    40          frac_alcohol    0.587374\n",
       "14     9           list_comp_R    36         frac_positive    0.579618\n",
       "28    28                charge    36         frac_positive    0.572811\n",
       "2      1              prest_id    41                aa_len    0.564699\n",
       "1      1              prest_id     4                bio_mW    0.559812\n",
       "20    14           list_comp_E    30            avg_charge    0.531727\n",
       "23    20           list_comp_M    37           frac_sulfur    0.522747\n",
       "35    33  frac_uncharged_polar    39            frac_amide    0.521360\n",
       "12     7             bio_gravy    36         frac_positive    0.514380\n",
       "19    14           list_comp_E    28                charge    0.513225\n",
       "13     8           list_comp_A    32        frac_aliphatic    0.503825"
      ]
     },
     "execution_count": 81,
     "metadata": {},
     "output_type": "execute_result"
    }
   ],
   "source": [
    "corr.values[[np.arange(corr.shape[0])]*2] = 0\n",
    "spcorr = sp.coo_matrix((corr > 0.5))\n",
    "spcorr = sp.triu(spcorr)\n",
    "r_name, c_name, score = [], [], []\n",
    "for r, c in zip(spcorr.row, spcorr.col):\n",
    "    r_name.append(corr_axis[r])\n",
    "    c_name.append(corr_axis[c])\n",
    "    score.append(corr.iloc[r, c])\n",
    "corr_top = pd.DataFrame(data={\n",
    "    'ind1': spcorr.row, \n",
    "    'name1': r_name,\n",
    "    'ind2': spcorr.col,\n",
    "    'name2': c_name,\n",
    "    'corr_score': score})\n",
    "corr_top.sort_values(by=['corr_score'], inplace=True, ascending=False)\n"
   ]
  },
  {
   "cell_type": "markdown",
   "source": [
    "## Dataset\n"
   ],
   "metadata": {
    "collapsed": false
   }
  },
  {
   "cell_type": "code",
   "execution_count": 73,
   "outputs": [
    {
     "name": "stdout",
     "text": [
      "There are  10172 proteins presented in the dataset.\nThere are   3038 unique proteins which present only once.\n"
     ],
     "output_type": "stream"
    },
    {
     "data": {
      "text/plain": "   prest_id uniprot_id  solubility_class_1M\n0    140095     G3V3N0                  4.0\n1    140099     G3V537                  5.0\n3    140235     H0YH02                  5.0\n4    140309     F5GYC5                  5.0\n5    140325     O43506                  2.0",
      "text/html": "<div>\n<style scoped>\n    .dataframe tbody tr th:only-of-type {\n        vertical-align: middle;\n    }\n\n    .dataframe tbody tr th {\n        vertical-align: top;\n    }\n\n    .dataframe thead th {\n        text-align: right;\n    }\n</style>\n<table border=\"1\" class=\"dataframe\">\n  <thead>\n    <tr style=\"text-align: right;\">\n      <th></th>\n      <th>prest_id</th>\n      <th>uniprot_id</th>\n      <th>solubility_class_1M</th>\n    </tr>\n  </thead>\n  <tbody>\n    <tr>\n      <th>0</th>\n      <td>140095</td>\n      <td>G3V3N0</td>\n      <td>4.0</td>\n    </tr>\n    <tr>\n      <th>1</th>\n      <td>140099</td>\n      <td>G3V537</td>\n      <td>5.0</td>\n    </tr>\n    <tr>\n      <th>3</th>\n      <td>140235</td>\n      <td>H0YH02</td>\n      <td>5.0</td>\n    </tr>\n    <tr>\n      <th>4</th>\n      <td>140309</td>\n      <td>F5GYC5</td>\n      <td>5.0</td>\n    </tr>\n    <tr>\n      <th>5</th>\n      <td>140325</td>\n      <td>O43506</td>\n      <td>2.0</td>\n    </tr>\n  </tbody>\n</table>\n</div>"
     },
     "metadata": {},
     "output_type": "execute_result",
     "execution_count": 73
    }
   ],
   "source": [
    "prest = pd.read_csv('./data/DF_prest.csv') \n",
    "prest = prest.iloc[:, 1: 3]\n",
    "\n",
    "solu = pd.read_csv('./data/DF_solubility.csv')\n",
    "solu = solu.iloc[:, [2, 4]]\n",
    "\n",
    "prest_solu = pd.merge(prest, solu, on='prest_id')\n",
    "print('There are {:6d} proteins presented in the dataset.'.format(prest_solu.shape[0]))\n",
    "prest_solu.drop_duplicates('uniprot_id', keep=False, inplace=True)\n",
    "\n",
    "print('There are {:6d} unique proteins which present only once.'.format(prest_solu.shape[0]))\n",
    "prest_solu.head()\n",
    "# prest_solu['uniprot_id'].to_csv('./data/PS_uniprot.csv', index=False)\n"
   ],
   "metadata": {
    "collapsed": false,
    "pycharm": {
     "name": "#%%\n",
     "is_executing": false
    }
   }
  },
  {
   "cell_type": "code",
   "execution_count": 130,
   "outputs": [
    {
     "name": "stdout",
     "text": [
      "If all the proteins are predicted to be solubility_class=5,\n  the accuracy of the prediction will be 0.45\n"
     ],
     "output_type": "stream"
    },
    {
     "data": {
      "text/plain": "<Figure size 432x288 with 1 Axes>",
      "image/png": "[encoded data removed]"
     },
     "metadata": {
      "needs_background": "light"
     },
     "output_type": "display_data"
    }
   ],
   "source": [
    "bbb = 8\n",
    "arr = plt.hist(prest_solu['solubility_class_1M'], bins=bbb)\n",
    "for i in range(bbb):\n",
    "    plt.text(arr[1][i], arr[0][i]+80, str(arr[0][i]))\n",
    "    plt.text(arr[1][i], arr[0][i]+10, '{:.2f}%'.format(arr[0][i]/prest_solu.shape[0]*100))\n",
    "\n"
   ],
   "metadata": {
    "collapsed": false,
    "pycharm": {
     "name": "#%%\n",
     "is_executing": false
    }
   }
  },
  {
   "cell_type": "code",
   "execution_count": 75,
   "outputs": [
    {
     "name": "stdout",
     "text": [
      "There are  428 proteins which have only one 3-d chemical structure.\n"
     ],
     "output_type": "stream"
    },
    {
     "data": {
      "text/plain": "   uniprot_id pdb_id\n11     Q6ZNE5   6HOL\n72     Q8IVF2   4CN0\n73     P30793   1FB1\n77     Q96KE9   2VKP\n78     O43915   2XV7",
      "text/html": "<div>\n<style scoped>\n    .dataframe tbody tr th:only-of-type {\n        vertical-align: middle;\n    }\n\n    .dataframe tbody tr th {\n        vertical-align: top;\n    }\n\n    .dataframe thead th {\n        text-align: right;\n    }\n</style>\n<table border=\"1\" class=\"dataframe\">\n  <thead>\n    <tr style=\"text-align: right;\">\n      <th></th>\n      <th>uniprot_id</th>\n      <th>pdb_id</th>\n    </tr>\n  </thead>\n  <tbody>\n    <tr>\n      <th>11</th>\n      <td>Q6ZNE5</td>\n      <td>6HOL</td>\n    </tr>\n    <tr>\n      <th>72</th>\n      <td>Q8IVF2</td>\n      <td>4CN0</td>\n    </tr>\n    <tr>\n      <th>73</th>\n      <td>P30793</td>\n      <td>1FB1</td>\n    </tr>\n    <tr>\n      <th>77</th>\n      <td>Q96KE9</td>\n      <td>2VKP</td>\n    </tr>\n    <tr>\n      <th>78</th>\n      <td>O43915</td>\n      <td>2XV7</td>\n    </tr>\n  </tbody>\n</table>\n</div>"
     },
     "metadata": {},
     "output_type": "execute_result",
     "execution_count": 75
    }
   ],
   "source": [
    "id_map = pd.read_table('./data/unip_map_pbd.tab')\n",
    "id_map.drop_duplicates('uniprot_id', keep = False, inplace=True)\n",
    "\n",
    "print('There are {:4d} proteins which have only one 3-d chemical structure.'.format(id_map.shape[0]))\n",
    "id_map.head()\n"
   ],
   "metadata": {
    "collapsed": false,
    "pycharm": {
     "name": "#%%\n",
     "is_executing": false
    }
   }
  },
  {
   "cell_type": "code",
   "execution_count": 93,
   "outputs": [
    {
     "name": "stdout",
     "text": [
      "There are  229 proteins which have only one 3-d chemical structure in the merged dataset.\n"
     ],
     "output_type": "stream"
    },
    {
     "data": {
      "text/plain": "    uniprot_id pdb_id  prest_id  solubility_class_1M\n0       Q6ZNE5   6HOL    140783                  5.0\n1       Q8IVF2   4CN0    141197                  4.0\n2       P30793   1FB1    141592                  1.0\n3       Q96KE9   2VKP    141986                  3.0\n4       O43915   2XV7    230623                  5.0\n..         ...    ...       ...                  ...\n224     Q9Y5J3   2DB7   2850452                  5.0\n225     Q6ZWB6   6G57   2850663                  5.0\n226     Q96ME7   2CTD   2860069                  5.0\n227     P15954   5Z62   2870062                  5.0\n228     Q14997   6REY   2920074                  4.0\n\n[229 rows x 4 columns]",
      "text/html": "<div>\n<style scoped>\n    .dataframe tbody tr th:only-of-type {\n        vertical-align: middle;\n    }\n\n    .dataframe tbody tr th {\n        vertical-align: top;\n    }\n\n    .dataframe thead th {\n        text-align: right;\n    }\n</style>\n<table border=\"1\" class=\"dataframe\">\n  <thead>\n    <tr style=\"text-align: right;\">\n      <th></th>\n      <th>uniprot_id</th>\n      <th>pdb_id</th>\n      <th>prest_id</th>\n      <th>solubility_class_1M</th>\n    </tr>\n  </thead>\n  <tbody>\n    <tr>\n      <th>0</th>\n      <td>Q6ZNE5</td>\n      <td>6HOL</td>\n      <td>140783</td>\n      <td>5.0</td>\n    </tr>\n    <tr>\n      <th>1</th>\n      <td>Q8IVF2</td>\n      <td>4CN0</td>\n      <td>141197</td>\n      <td>4.0</td>\n    </tr>\n    <tr>\n      <th>2</th>\n      <td>P30793</td>\n      <td>1FB1</td>\n      <td>141592</td>\n      <td>1.0</td>\n    </tr>\n    <tr>\n      <th>3</th>\n      <td>Q96KE9</td>\n      <td>2VKP</td>\n      <td>141986</td>\n      <td>3.0</td>\n    </tr>\n    <tr>\n      <th>4</th>\n      <td>O43915</td>\n      <td>2XV7</td>\n      <td>230623</td>\n      <td>5.0</td>\n    </tr>\n    <tr>\n      <th>5</th>\n      <td>Q8NFH8</td>\n      <td>1IQ3</td>\n      <td>232004</td>\n      <td>5.0</td>\n    </tr>\n    <tr>\n      <th>6</th>\n      <td>Q96IZ5</td>\n      <td>2CPX</td>\n      <td>232350</td>\n      <td>5.0</td>\n    </tr>\n    <tr>\n      <th>7</th>\n      <td>Q9ULL8</td>\n      <td>2EDP</td>\n      <td>232745</td>\n      <td>4.0</td>\n    </tr>\n    <tr>\n      <th>8</th>\n      <td>P57739</td>\n      <td>4YYX</td>\n      <td>232764</td>\n      <td>5.0</td>\n    </tr>\n    <tr>\n      <th>9</th>\n      <td>Q00994</td>\n      <td>1SA6</td>\n      <td>232771</td>\n      <td>4.0</td>\n    </tr>\n    <tr>\n      <th>10</th>\n      <td>O95671</td>\n      <td>2P5X</td>\n      <td>232774</td>\n      <td>3.0</td>\n    </tr>\n    <tr>\n      <th>11</th>\n      <td>Q8NC51</td>\n      <td>4V6X</td>\n      <td>260175</td>\n      <td>5.0</td>\n    </tr>\n    <tr>\n      <th>12</th>\n      <td>P42680</td>\n      <td>2LUL</td>\n      <td>290059</td>\n      <td>5.0</td>\n    </tr>\n    <tr>\n      <th>13</th>\n      <td>Q9Y5R6</td>\n      <td>4YJ0</td>\n      <td>360135</td>\n      <td>4.0</td>\n    </tr>\n    <tr>\n      <th>14</th>\n      <td>O43508</td>\n      <td>4HT1</td>\n      <td>520170</td>\n      <td>5.0</td>\n    </tr>\n    <tr>\n      <th>15</th>\n      <td>Q96F24</td>\n      <td>4ZEY</td>\n      <td>650072</td>\n      <td>4.0</td>\n    </tr>\n    <tr>\n      <th>16</th>\n      <td>Q9Y613</td>\n      <td>3DAD</td>\n      <td>1140005</td>\n      <td>4.0</td>\n    </tr>\n    <tr>\n      <th>17</th>\n      <td>P13945</td>\n      <td>2CDW</td>\n      <td>1410084</td>\n      <td>5.0</td>\n    </tr>\n    <tr>\n      <th>18</th>\n      <td>Q8IY57</td>\n      <td>2D9G</td>\n      <td>1470006</td>\n      <td>4.0</td>\n    </tr>\n    <tr>\n      <th>19</th>\n      <td>Q14847</td>\n      <td>3I35</td>\n      <td>1510001</td>\n      <td>5.0</td>\n    </tr>\n    <tr>\n      <th>20</th>\n      <td>Q5TCQ9</td>\n      <td>3SOE</td>\n      <td>1510008</td>\n      <td>5.0</td>\n    </tr>\n    <tr>\n      <th>21</th>\n      <td>Q9NV56</td>\n      <td>2N1D</td>\n      <td>1530014</td>\n      <td>4.0</td>\n    </tr>\n    <tr>\n      <th>22</th>\n      <td>P15514</td>\n      <td>2RNL</td>\n      <td>1530020</td>\n      <td>5.0</td>\n    </tr>\n    <tr>\n      <th>23</th>\n      <td>O00338</td>\n      <td>3BFX</td>\n      <td>1530062</td>\n      <td>1.0</td>\n    </tr>\n    <tr>\n      <th>24</th>\n      <td>Q99731</td>\n      <td>2MP1</td>\n      <td>1820120</td>\n      <td>5.0</td>\n    </tr>\n    <tr>\n      <th>25</th>\n      <td>P54886</td>\n      <td>2H5G</td>\n      <td>1830003</td>\n      <td>5.0</td>\n    </tr>\n    <tr>\n      <th>26</th>\n      <td>Q86YV5</td>\n      <td>5VE6</td>\n      <td>1840192</td>\n      <td>5.0</td>\n    </tr>\n    <tr>\n      <th>27</th>\n      <td>Q96NX5</td>\n      <td>2JAM</td>\n      <td>1840232</td>\n      <td>5.0</td>\n    </tr>\n    <tr>\n      <th>28</th>\n      <td>Q8TDB6</td>\n      <td>3PG6</td>\n      <td>1850122</td>\n      <td>4.0</td>\n    </tr>\n    <tr>\n      <th>29</th>\n      <td>Q8N2I9</td>\n      <td>5L2Q</td>\n      <td>1850147</td>\n      <td>3.0</td>\n    </tr>\n    <tr>\n      <th>...</th>\n      <td>...</td>\n      <td>...</td>\n      <td>...</td>\n      <td>...</td>\n    </tr>\n    <tr>\n      <th>199</th>\n      <td>Q5VT52</td>\n      <td>4FLB</td>\n      <td>2551527</td>\n      <td>5.0</td>\n    </tr>\n    <tr>\n      <th>200</th>\n      <td>Q6P589</td>\n      <td>3F4M</td>\n      <td>2551529</td>\n      <td>4.0</td>\n    </tr>\n    <tr>\n      <th>201</th>\n      <td>Q15126</td>\n      <td>3CH4</td>\n      <td>2551544</td>\n      <td>4.0</td>\n    </tr>\n    <tr>\n      <th>202</th>\n      <td>P17066</td>\n      <td>3FE1</td>\n      <td>2551660</td>\n      <td>4.0</td>\n    </tr>\n    <tr>\n      <th>203</th>\n      <td>Q9P258</td>\n      <td>5GWN</td>\n      <td>2551791</td>\n      <td>4.0</td>\n    </tr>\n    <tr>\n      <th>204</th>\n      <td>Q9HCY8</td>\n      <td>2M0R</td>\n      <td>2552068</td>\n      <td>4.0</td>\n    </tr>\n    <tr>\n      <th>205</th>\n      <td>Q8WW01</td>\n      <td>2GW6</td>\n      <td>2552181</td>\n      <td>2.0</td>\n    </tr>\n    <tr>\n      <th>206</th>\n      <td>O00584</td>\n      <td>3T0O</td>\n      <td>2570074</td>\n      <td>5.0</td>\n    </tr>\n    <tr>\n      <th>207</th>\n      <td>P16562</td>\n      <td>2CQ7</td>\n      <td>2590108</td>\n      <td>4.0</td>\n    </tr>\n    <tr>\n      <th>208</th>\n      <td>Q9BZM4</td>\n      <td>1KCG</td>\n      <td>2620097</td>\n      <td>4.0</td>\n    </tr>\n    <tr>\n      <th>209</th>\n      <td>P63172</td>\n      <td>5JPW</td>\n      <td>2620316</td>\n      <td>4.0</td>\n    </tr>\n    <tr>\n      <th>210</th>\n      <td>Q9Y243</td>\n      <td>2X18</td>\n      <td>2690020</td>\n      <td>5.0</td>\n    </tr>\n    <tr>\n      <th>211</th>\n      <td>P07947</td>\n      <td>2HDA</td>\n      <td>2690058</td>\n      <td>4.0</td>\n    </tr>\n    <tr>\n      <th>212</th>\n      <td>Q92934</td>\n      <td>1G5J</td>\n      <td>2700001</td>\n      <td>5.0</td>\n    </tr>\n    <tr>\n      <th>213</th>\n      <td>P53420</td>\n      <td>5NB1</td>\n      <td>2700036</td>\n      <td>5.0</td>\n    </tr>\n    <tr>\n      <th>214</th>\n      <td>O43745</td>\n      <td>2BEC</td>\n      <td>2700182</td>\n      <td>4.0</td>\n    </tr>\n    <tr>\n      <th>215</th>\n      <td>P49840</td>\n      <td>2DFM</td>\n      <td>2750019</td>\n      <td>4.0</td>\n    </tr>\n    <tr>\n      <th>216</th>\n      <td>P20809</td>\n      <td>4MHL</td>\n      <td>2760042</td>\n      <td>5.0</td>\n    </tr>\n    <tr>\n      <th>217</th>\n      <td>Q06710</td>\n      <td>2K27</td>\n      <td>2760176</td>\n      <td>5.0</td>\n    </tr>\n    <tr>\n      <th>218</th>\n      <td>P30518</td>\n      <td>4JQI</td>\n      <td>2770053</td>\n      <td>5.0</td>\n    </tr>\n    <tr>\n      <th>219</th>\n      <td>O43463</td>\n      <td>3MTS</td>\n      <td>2810058</td>\n      <td>4.0</td>\n    </tr>\n    <tr>\n      <th>220</th>\n      <td>Q9BTP6</td>\n      <td>2DJR</td>\n      <td>2840169</td>\n      <td>4.0</td>\n    </tr>\n    <tr>\n      <th>221</th>\n      <td>Q9NZ01</td>\n      <td>2DZJ</td>\n      <td>2850130</td>\n      <td>4.0</td>\n    </tr>\n    <tr>\n      <th>222</th>\n      <td>O00287</td>\n      <td>2KW3</td>\n      <td>2850293</td>\n      <td>5.0</td>\n    </tr>\n    <tr>\n      <th>223</th>\n      <td>Q9NUU6</td>\n      <td>6DRM</td>\n      <td>2850368</td>\n      <td>5.0</td>\n    </tr>\n    <tr>\n      <th>224</th>\n      <td>Q9Y5J3</td>\n      <td>2DB7</td>\n      <td>2850452</td>\n      <td>5.0</td>\n    </tr>\n    <tr>\n      <th>225</th>\n      <td>Q6ZWB6</td>\n      <td>6G57</td>\n      <td>2850663</td>\n      <td>5.0</td>\n    </tr>\n    <tr>\n      <th>226</th>\n      <td>Q96ME7</td>\n      <td>2CTD</td>\n      <td>2860069</td>\n      <td>5.0</td>\n    </tr>\n    <tr>\n      <th>227</th>\n      <td>P15954</td>\n      <td>5Z62</td>\n      <td>2870062</td>\n      <td>5.0</td>\n    </tr>\n    <tr>\n      <th>228</th>\n      <td>Q14997</td>\n      <td>6REY</td>\n      <td>2920074</td>\n      <td>4.0</td>\n    </tr>\n  </tbody>\n</table>\n<p>229 rows × 4 columns</p>\n</div>"
     },
     "metadata": {},
     "output_type": "execute_result",
     "execution_count": 93
    }
   ],
   "source": [
    "pdb_solu = pd.merge(id_map, prest_solu, on='uniprot_id')\n",
    "print('There are {:4d} proteins which have only one 3-d chemical structure in the merged dataset.'.format(pdb_solu.shape[0]))\n",
    "# pdb_solu['pdb_id'].to_csv('./data/PS_pbd.csv', index=False)\n",
    "pdb_solu\n"
   ],
   "metadata": {
    "collapsed": false,
    "pycharm": {
     "name": "#%%\n",
     "is_executing": false
    }
   }
  },
  {
   "cell_type": "markdown",
   "source": [
    "### Download pdb file from the RCSB-PDB database\n"
   ],
   "metadata": {
    "collapsed": false,
    "pycharm": {
     "name": "#%% md\n",
     "is_executing": false
    }
   }
  },
  {
   "cell_type": "code",
   "execution_count": 100,
   "outputs": [
    {
     "name": "stdout",
     "text": [
      "   0 of protein 3-d structure not found.\n"
     ],
     "output_type": "stream"
    }
   ],
   "source": [
    "import requests as re\n",
    "url = r\"http://files.rcsb.org/download/\"\n",
    "pdb_list = pdb_solu['pdb_id'].to_list()\n",
    "tmp = len(pdb_list)\n",
    "for i in range(tmp):\n",
    "    pdb = pdb_list[i]\n",
    "    u = url + pdb + '.pdb'\n",
    "    r = re.get(u)\n",
    "    if r.ok:\n",
    "        with open('./data/pdb/' + pdb + '.pdb', 'bw') as f:\n",
    "            f.write(r.content)\n",
    "    else:\n",
    "        pdb_solu.drop(pdb_solu.index[i])\n",
    "\n",
    "print('{:4d} of protein 3-d structure not found.'\n",
    "      .format(tmp - pdb_solu.shape[0]))\n"
   ],
   "metadata": {
    "collapsed": false,
    "pycharm": {
     "name": "#%%\n",
     "is_executing": false
    }
   }
  },
  {
   "cell_type": "code",
   "execution_count": 136,
   "outputs": [
    {
     "data": {
      "text/plain": "<Figure size 432x288 with 1 Axes>",
      "image/png": "[encoded data removed]"
     },
     "metadata": {
      "needs_background": "light"
     },
     "output_type": "display_data"
    }
   ],
   "source": [
    "bbb = 8\n",
    "arr = plt.hist(pdb_solu['solubility_class_1M'], bins=bbb)\n",
    "for i in range(bbb):\n",
    "    plt.text(arr[1][i]+0.1, arr[0][i]+1, str(arr[0][i]))        \n",
    "    plt.text(arr[1][i], arr[0][i]+6, '{:.2f}%'.format(arr[0][i]/pdb_solu.shape[0]*100))\n",
    "\n"
   ],
   "metadata": {
    "collapsed": false,
    "pycharm": {
     "name": "#%%\n",
     "is_executing": false
    }
   }
  }
 ],
 "metadata": {
  "hide_input": false,
  "kernelspec": {
   "display_name": "PyCharm (PS)",
   "language": "python",
   "name": "pycharm-eb01d402"
  },
  "language_info": {
   "codemirror_mode": {
    "name": "ipython",
    "version": 3
   },
   "file_extension": ".py",
   "mimetype": "text/x-python",
   "name": "python",
   "nbconvert_exporter": "python",
   "pygments_lexer": "ipython3",
   "version": "3.6.7"
  },
  "pycharm": {
   "stem_cell": {
    "cell_type": "raw",
    "source": [],
    "metadata": {
     "collapsed": false
    }
   }
  },
  "toc": {
   "base_numbering": 1,
   "nav_menu": {},
   "number_sections": true,
   "sideBar": true,
   "skip_h1_title": false,
   "title_cell": "Table of Contents",
   "title_sidebar": "Contents",
   "toc_cell": true,
   "toc_position": {},
   "toc_section_display": true,
   "toc_window_display": false
  },
  "varInspector": {
   "cols": {
    "lenName": 16,
    "lenType": 16,
    "lenVar": 40
   },
   "kernels_config": {
    "python": {
     "delete_cmd_postfix": "",
     "delete_cmd_prefix": "del ",
     "library": "var_list.py",
     "varRefreshCmd": "print(var_dic_list())"
    },
    "r": {
     "delete_cmd_postfix": ") ",
     "delete_cmd_prefix": "rm(",
     "library": "var_list.r",
     "varRefreshCmd": "cat(var_dic_list()) "
    }
   },
   "types_to_exclude": [
    "module",
    "function",
    "builtin_function_or_method",
    "instance",
    "_Feature"
   ],
   "window_display": false
  }
 },
 "nbformat": 4,
 "nbformat_minor": 2
}