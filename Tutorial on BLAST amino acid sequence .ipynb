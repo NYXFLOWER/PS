{
 "cells": [
  {
   "cell_type": "markdown",
   "metadata": {
    "toc": true
   },
   "source": [
    "<h1>Table of Contents<span class=\"tocSkip\"></span></h1>\n",
    "<div class=\"toc\"><ul class=\"toc-item\"><li><span><a href=\"#Dataset-Construction\" data-toc-modified-id=\"Dataset-Construction-1\"><span class=\"toc-item-num\">1&nbsp;&nbsp;</span>Dataset Construction</a></span><ul class=\"toc-item\"><li><span><a href=\"#Load-amino-acid-sequence-and-its-solubility-(soluble-or-insoluble)-from-DeepSol\" data-toc-modified-id=\"Load-amino-acid-sequence-and-its-solubility-(soluble-or-insoluble)-from-DeepSol-1.1\"><span class=\"toc-item-num\">1.1&nbsp;&nbsp;</span>Load amino acid sequence and its solubility (soluble or insoluble) from DeepSol</a></span></li><li><span><a href=\"#BLAST-in-RCSB-PDB-database\" data-toc-modified-id=\"BLAST-in-RCSB-PDB-database-1.2\"><span class=\"toc-item-num\">1.2&nbsp;&nbsp;</span>BLAST in RCSB-PDB database</a></span></li><li><span><a href=\"#Blast-with-'blastp'\" data-toc-modified-id=\"Blast-with-'blastp'-1.3\"><span class=\"toc-item-num\">1.3&nbsp;&nbsp;</span>Blast with 'blastp'</a></span></li><li><span><a href=\"#Blast-Sequence_id-to-GeneID\" data-toc-modified-id=\"Blast-Sequence_id-to-GeneID-1.4\"><span class=\"toc-item-num\">1.4&nbsp;&nbsp;</span>Blast Sequence_id to GeneID</a></span></li></ul></li></ul></div>"
   ]
  },
  {
   "cell_type": "code",
   "execution_count": null,
   "metadata": {
    "pycharm": {
     "is_executing": true
    }
   },
   "outputs": [],
   "source": [
    "import pandas as pd\n",
    "import numpy as np\n",
    "import matplotlib.pyplot as plt\n",
    "import pickle\n",
    "import requests\n",
    "import re\n",
    "from Bio.Blast import NCBIWWW\n",
    "from ssbio.pipeline.gempro import GEMPRO\n",
    "from os import path\n",
    "from src.utils import *\n",
    "from tqdm.notebook import tqdm\n",
    "import sys\n",
    "from time import sleep\n",
    "\n",
    "# Printing multiple outputs per cell\n",
    "# from IPython.core.interactiveshell import InteractiveShell\n",
    "# InteractiveShell.ast_node_interactivity = \"all\"\n"
   ]
  },
  {
   "cell_type": "markdown",
   "metadata": {
    "pycharm": {
     "is_executing": false,
     "name": "#%% md\n"
    }
   },
   "source": [
    "## Dataset Construction\n",
    "### Load amino acid sequence and its solubility (soluble or insoluble) from DeepSol\n"
   ]
  },
  {
   "cell_type": "code",
   "execution_count": null,
   "metadata": {
    "pycharm": {
     "is_executing": false,
     "name": "#%%\n"
    }
   },
   "outputs": [],
   "source": [
    "dir = './data/deepsol/'\n",
    "aa_seq = np.concatenate((np.loadtxt(dir+'train_src', dtype='str'), \n",
    "                        np.loadtxt(dir+'test_src', dtype='str'), \n",
    "                        np.loadtxt(dir+'val_src', dtype='str')), axis=0)\n",
    "sol = np.concatenate((np.loadtxt(dir+'train_tgt', dtype=int),\n",
    "                      np.loadtxt(dir+'test_tgt', dtype=int),\n",
    "                      np.loadtxt(dir+'val_tgt', dtype=int)), axis=0)\n",
    "assert aa_seq.shape[0] == sol.shape[0]\n",
    "print('There are {:d} samples in the DeepSol datasets.'.format(aa_seq.shape[0]))\n",
    "\n",
    "l = []\n",
    "for i in aa_seq:\n",
    "    l.append(len(i))\n",
    "print('The length of amino acid is ranged from {} to {}.'.format(min(l), max(l)))\n"
   ]
  },
  {
   "cell_type": "markdown",
   "metadata": {
    "pycharm": {
     "name": "#%% md\n"
    }
   },
   "source": [
    "### BLAST in RCSB-PDB database\n"
   ]
  },
  {
   "cell_type": "code",
   "execution_count": null,
   "metadata": {},
   "outputs": [],
   "source": [
    "# ##################### logging #####################\n",
    "# import sys\n",
    "\n",
    "# orig_stdout = sys.stdout\n",
    "# f = open('out.txt', 'w')\n",
    "# sys.stdout = f"
   ]
  },
  {
   "cell_type": "code",
   "execution_count": null,
   "metadata": {},
   "outputs": [],
   "source": [
    "# ##################### setting #####################\n",
    "evalue=0.0001\n",
    "# evalue = float('1E-20')\n",
    "\n",
    "outdir_pdb = './data/pdb'\n",
    "\n",
    "# ################### place holder ##################\n",
    "# aa_seq | pdb_idx | solubility | matched pdb | if_reviewed\n",
    "data = np.chararray(shape=[aa_seq.shape[0], 5], itemsize=1700)\n",
    "# , unicode=True\n"
   ]
  },
  {
   "cell_type": "code",
   "execution_count": null,
   "metadata": {
    "pycharm": {
     "is_executing": true,
     "name": "#%%\n"
    }
   },
   "outputs": [],
   "source": [
    "# ######## query and get matched pdb indices ########\n",
    "with tqdm(total=aa_seq.shape[0], file=sys.stdout) as pbar:\n",
    "    \n",
    "    for idx in range(aa_seq.shape[0]):\n",
    "        seq = aa_seq[idx]\n",
    "    \n",
    "        # write to dataset table\n",
    "        # aa_seq | pdb_idx | solubility | matched pdb | if_reviewed\n",
    "        data[idx, 0] = seq\n",
    "        data[idx, 1] = sol[idx]\n",
    "\n",
    "        # query on pdb-blast\n",
    "        page = 'http://www.rcsb.org/pdb/rest/getBlastPDB1?' \\\n",
    "               'sequence={}&' \\\n",
    "               'eCutOff={}&' \\\n",
    "               'maskLowComplexity=yes&' \\\n",
    "               'matrix=BLOSUM62&' \\\n",
    "               'outputFormat=HTML'.format(seq, evalue)\n",
    "        outfile = path.join('./data/pdb-blast', str(idx)+'.txt')\n",
    "        response = download_from_webpage(page, outfile, idx)\n",
    "        if response:\n",
    "            response = re.split(r'name', response)\n",
    "\n",
    "    \n",
    "            # retrieve fully matched protein structure indices which have 100% identity\n",
    "            matched_pbds = []\n",
    "            if response.__len__() == 1:\n",
    "                error('no retrieved pdb file - {}'.format(idx))\n",
    "            else:\n",
    "#                 print(response.__len__())\n",
    "                for i in range(1, response.__len__()):\n",
    "                    try:                                # parsing blast result\n",
    "                        st = re.search('Identities = ', response[i]).span()[1]\n",
    "                        ed = re.search(', Positives', response[i]).span()[0]\n",
    "                        if re.search('100', response[i][st: ed]):\n",
    "                            lo = re.search('<\\/a>', response[i]).span()[1]\n",
    "                            matched_pbds.append(response[i][lo:(lo+4)])\n",
    "                    except :\n",
    "                        error('paring response false - {}'.format(idx))\n",
    "                \n",
    "    \n",
    "                # download matched pdb files and parse the resolution\n",
    "                pdb_files = []\n",
    "                if matched_pbds:\n",
    "                    for pdb in matched_pbds:\n",
    "                        page = 'http://files.rcsb.org/view/{}.pdb'.format(pdb)\n",
    "                        req = requests.get(page)\n",
    "                        if req.status_code == 200:\n",
    "                            response = req.text\n",
    "                            outfile = path.join(outdir_pdb, str(pdb)+'.pdb')\n",
    "                            if outfile:\n",
    "                                with open(outfile, 'w') as f:\n",
    "                                    f.write(response)\n",
    "                                pdb_files.append(pdb)\n",
    "                            else:\n",
    "                                error('can not write to file - idx:{}, pdb:{}'.format(pdb, idx))\n",
    "                                continue\n",
    "                        else:\n",
    "                            error('web page no response for pdb download - {}'.format(idx))\n",
    "                            continue\n",
    " \n",
    "                    if pdb_files:\n",
    "                        reso = get_resolutions(pdb_files, outdir_pdb)\n",
    "                        if reso:\n",
    "                            tmp = np.array(reso).astype(float)\n",
    "                            i_max = np.argmax(np.nan_to_num(tmp))\n",
    "#         print(pdb_files[i_max], reso[i_max])\n",
    "                            data[idx, 2] = pdb_files[i_max]             # write to dataset table\n",
    "                            data[idx, 3] = str(list(zip(pdb_files, reso)))\n",
    "                        print(idx)\n",
    "        \n",
    "        \n",
    "        pbar.set_description('processed: %d' % (1 + idx))\n",
    "        pbar.update(1)\n",
    "        sleep(1)\n",
    "\n",
    "# close logging\n",
    "# sys.stdout = orig_stdout\n",
    "# f.close()"
   ]
  },
  {
   "cell_type": "code",
   "execution_count": null,
   "metadata": {},
   "outputs": [],
   "source": [
    "data_table = pd.DataFrame(data=data, columns=['aa_seq', 'solubility', 'pdb_idx', 'matched pdb', 'if_reviewed']) \n",
    "data_table"
   ]
  },
  {
   "cell_type": "code",
   "execution_count": null,
   "metadata": {
    "pycharm": {
     "name": "#%%\n"
    }
   },
   "outputs": [],
   "source": [
    "\n",
    "seq = 'GSHMSLFDFFKNKGSAATATDRLKLILAKERTLNLPYMEEMRKEIIAVIQKYTKSSDIHFKTLDSNQSVETIEVEIILPR'\n",
    "\n",
    "page = 'http://www.rcsb.org/pdb/rest/getBlastPDB1?' \\\n",
    "       'sequence={}&' \\\n",
    "       'eCutOff={}&' \\\n",
    "       'maskLowComplexity=yes&' \\\n",
    "       'matrix=BLOSUM62&' \\\n",
    "       'outputFormat=HTML'.format(seq, evalue)\n",
    "\n",
    "outfile = path.join('./data/pdb-blast', str(idx)+'.txt')\n",
    "response = download_from_webpage(page, outfile)\n",
    "response = re.split(r'name', response)\n"
   ]
  },
  {
   "cell_type": "code",
   "execution_count": null,
   "metadata": {
    "pycharm": {
     "is_executing": false,
     "name": "#%%\n"
    }
   },
   "outputs": [],
   "source": [
    "matched_pbds = [] # fully matched protein structure indices which have 100% identity\n",
    "if response.__len__() == 1:\n",
    "    error('no retrieved pdb file')\n",
    "else:\n",
    "    for i in range(1, response.__len__()):\n",
    "        try:# parsing blast result\n",
    "            st = re.search('Identities = ', response[i]).span()[1]\n",
    "            ed = re.search(', Positives', response[i]).span()[0]\n",
    "            if re.search('100', response[i][st: ed]):\n",
    "                lo = re.search('<\\/a>', response[i]).span()[1]\n",
    "                matched_pbds.append(response[i][lo:(lo+4)])\n",
    "        except :\n",
    "            error('paring response false - {}'.format(idx))\n"
   ]
  },
  {
   "cell_type": "code",
   "execution_count": null,
   "metadata": {
    "pycharm": {
     "is_executing": false,
     "name": "#%%\n"
    }
   },
   "outputs": [],
   "source": [
    "pdb_files = []\n",
    "if matched_pbds:\n",
    "    for pdb in matched_pbds:\n",
    "        page = 'http://files.rcsb.org/view/{}.pdb'.format(pdb)\n",
    "        req = requests.get(page)\n",
    "        if req.status_code == 200:\n",
    "            response = req.text\n",
    "            outfile = path.join(outdir_pdb, str(pdb)+'.pdb')\n",
    "            if outfile:\n",
    "                with open(outfile, 'w') as f:\n",
    "                    f.write(response)\n",
    "                pdb_files.append(pdb)\n",
    "            else:\n",
    "                error('can not write to file - idx:{}, pdb:{}'.format(pdb, idx))\n",
    "        else:\n",
    "            error('web page no response')\n",
    "\n",
    "\n",
    "        \n",
    "\n",
    "\n",
    "# get the pdb index which has the best resolution\n"
   ]
  },
  {
   "cell_type": "code",
   "execution_count": null,
   "metadata": {
    "pycharm": {
     "is_executing": false,
     "name": "#%%\n"
    }
   },
   "outputs": [],
   "source": [
    "\n"
   ]
  },
  {
   "cell_type": "code",
   "execution_count": null,
   "metadata": {
    "pycharm": {
     "is_executing": false,
     "name": "#%%\n"
    }
   },
   "outputs": [],
   "source": [
    "# aa_seq | pdb_idx | solubility | matched pdb | if_reviewed\n",
    "data = np.chararray(shape=[aa_seq.shape[0], 5], itemsize=1700)\n",
    "# , unicode=True\n",
    "if pdb_files:\n",
    "    reso = get_resolutions(pdb_files, outdir_pdb)\n",
    "    i_max = np.argmax(reso)\n",
    "    print(pdb_files[i_max], reso[i_max])\n",
    "    data[idx, 2] = pdb_files[i_max]             # write to dataset table\n",
    "    data[idx, 3] = str(list(zip(pdb_files, reso)))\n",
    "# write to dataset table\n",
    "# aa_seq | pdb_idx | solubility | matched pdb | if_reviewed\n",
    "data[idx, 0] = aa_seq[idx]\n",
    "data[idx, 1] = sol[idx]\n",
    "\n",
    "data_table = pd.DataFrame(data=data, \n",
    "             columns=['aa_seq', 'solubility', 'pdb_idx', 'matched pdb', 'if_reviewed']) \n",
    "data_table\n",
    "\n",
    "\n"
   ]
  },
  {
   "cell_type": "code",
   "execution_count": null,
   "metadata": {
    "pycharm": {
     "name": "#%%\n"
    }
   },
   "outputs": [],
   "source": []
  },
  {
   "cell_type": "code",
   "execution_count": null,
   "metadata": {
    "pycharm": {
     "name": "#%%\n"
    }
   },
   "outputs": [],
   "source": [
    "\n",
    "\n"
   ]
  },
  {
   "cell_type": "markdown",
   "metadata": {
    "pycharm": {
     "name": "#%% md\n"
    }
   },
   "source": [
    "### Blast with 'blastp'\n"
   ]
  },
  {
   "cell_type": "code",
   "execution_count": null,
   "metadata": {
    "pycharm": {
     "is_executing": false
    }
   },
   "outputs": [],
   "source": [
    "i = 0\n",
    "result_handle = NCBIWWW.qblast(\"blastp\", \"nr\", aa_seq[i])\n",
    "tmp = result_handle.read()                                     # query result -> string\n",
    "with open('./blastp_result/{:d}.txt'.format(i), 'w') as f:\n",
    "    f.write(tmp)                                               # write query results to file\n",
    "rc_st = re.compile(r'\\<Hit\\_id\\>')\n",
    "rc_ed = re.compile(r'\\|\\<\\/Hit\\_id\\>')\n",
    "sequence_id = tmp[rc_st.search(tmp).span()[1]: rc_ed.search(tmp).span()[0]]\n",
    "sequence_id = sequence_id.split('|')[-1]\n"
   ]
  },
  {
   "cell_type": "markdown",
   "metadata": {
    "pycharm": {
     "name": "#%% md\n"
    }
   },
   "source": [
    "### Blast Sequence_id to GeneID\n"
   ]
  },
  {
   "cell_type": "code",
   "execution_count": null,
   "metadata": {
    "pycharm": {
     "name": "#%%\n"
    }
   },
   "outputs": [],
   "source": [
    "a = requests.get('https://www.ncbi.nlm.nih.gov/protein/XP_001351225.1')\n",
    "\n",
    "\n",
    "with open('./blastp_result/{:d}.txt'.format(i), 'r') as f:\n",
    "    f.write(a.content)\n",
    "    \n",
    "# use ncbi_uid\n",
    "b = requests.get('https://www.ncbi.nlm.nih.gov/sviewer/viewer.fcgi?id=124504967')\n",
    "with open('./bbb.txt', 'wb') as f:\n",
    "    f.write(a.content)\n",
    "    \n",
    "# use GeneID"
   ]
  },
  {
   "cell_type": "code",
   "execution_count": null,
   "metadata": {
    "pycharm": {
     "is_executing": true,
     "name": "#%%\n"
    }
   },
   "outputs": [],
   "source": []
  },
  {
   "cell_type": "code",
   "execution_count": null,
   "metadata": {
    "pycharm": {
     "is_executing": true,
     "name": "#%%\n"
    }
   },
   "outputs": [],
   "source": []
  },
  {
   "cell_type": "code",
   "execution_count": null,
   "metadata": {
    "pycharm": {
     "name": "#%%\n"
    }
   },
   "outputs": [],
   "source": []
  },
  {
   "cell_type": "code",
   "execution_count": null,
   "metadata": {
    "pycharm": {
     "name": "#%%\n"
    }
   },
   "outputs": [],
   "source": [
    "\n"
   ]
  }
 ],
 "metadata": {
  "hide_input": false,
  "kernelspec": {
   "display_name": "PyCharm (PS)",
   "language": "python",
   "name": "pycharm-eb01d402"
  },
  "language_info": {
   "codemirror_mode": {
    "name": "ipython",
    "version": 3
   },
   "file_extension": ".py",
   "mimetype": "text/x-python",
   "name": "python",
   "nbconvert_exporter": "python",
   "pygments_lexer": "ipython3",
   "version": "3.6.7"
  },
  "pycharm": {
   "stem_cell": {
    "cell_type": "raw",
    "metadata": {
     "collapsed": false
    },
    "source": []
   }
  },
  "toc": {
   "base_numbering": 1,
   "nav_menu": {},
   "number_sections": true,
   "sideBar": true,
   "skip_h1_title": false,
   "title_cell": "Table of Contents",
   "title_sidebar": "Contents",
   "toc_cell": true,
   "toc_position": {},
   "toc_section_display": true,
   "toc_window_display": false
  },
  "varInspector": {
   "cols": {
    "lenName": 16,
    "lenType": 16,
    "lenVar": 40
   },
   "kernels_config": {
    "python": {
     "delete_cmd_postfix": "",
     "delete_cmd_prefix": "del ",
     "library": "var_list.py",
     "varRefreshCmd": "print(var_dic_list())"
    },
    "r": {
     "delete_cmd_postfix": ") ",
     "delete_cmd_prefix": "rm(",
     "library": "var_list.r",
     "varRefreshCmd": "cat(var_dic_list()) "
    }
   },
   "types_to_exclude": [
    "module",
    "function",
    "builtin_function_or_method",
    "instance",
    "_Feature"
   ],
   "window_display": false
  }
 },
 "nbformat": 4,
 "nbformat_minor": 4
}
