{
 "metadata": {
  "orig_nbformat": 2,
  "kernelspec": {
   "name": "python39064bitprot3dcondac49bcfaf08e14d7cbac9ce2f106e0ed6",
   "display_name": "Python 3.9.0 64-bit ('prot3d': conda)",
   "language": "python"
  }
 },
 "nbformat": 4,
 "nbformat_minor": 2,
 "cells": [
  {
   "cell_type": "code",
   "execution_count": 1,
   "metadata": {},
   "outputs": [
    {
     "output_type": "execute_result",
     "data": {
      "text/plain": [
       "'/home/flower/github/Protein3D'"
      ]
     },
     "metadata": {},
     "execution_count": 1
    }
   ],
   "source": [
    "import os\n",
    "os.path.abspath(os.curdir)\n",
    "os.chdir('/home/flower/github/Protein3D/Protein3D')\n",
    "os.path.abspath(os.curdir)"
   ]
  },
  {
   "cell_type": "code",
   "execution_count": 49,
   "metadata": {},
   "outputs": [],
   "source": [
    "from dataset.utils import *\n",
    "import numpy as np\n",
    "import pandas as pd\n",
    "\n",
    "from Bio.PDB.PDBParser import PDBParser\n",
    "\n",
    "pdb_parser = PDBParser(PERMISSIVE=1)"
   ]
  },
  {
   "source": [
    "### Single protein"
   ],
   "cell_type": "markdown",
   "metadata": {}
  },
  {
   "cell_type": "code",
   "execution_count": 19,
   "metadata": {},
   "outputs": [],
   "source": [
    "pdb_id = '102l'\n",
    "# download_pdb(pdb_id, 'hhh')\n",
    "structure = pdb_parser.get_structure(pdb_id, f'{pdb_id}.pdb')\n",
    "\n"
   ]
  },
  {
   "cell_type": "code",
   "execution_count": 62,
   "metadata": {},
   "outputs": [],
   "source": [
    "pdb_id = '102l'\n",
    "# download_pdb(pdb_id, 'hhh')\n",
    "structure = pdb_parser.get_structure(pdb_id, f'{pdb_id}.pdb')\n",
    "\n",
    "res_list = []\n",
    "res_coo = []\n",
    "model = structure[0]\n",
    "for chain in model.get_list():\n",
    "    for res in chain.get_list():\n",
    "        if res.get_id()[0] == ' ':\n",
    "            res_list.append(res.get_resname())\n",
    "            coos = np.concatenate([i.get_coord() for i in res10.get_atoms()]).reshape((-1, 3))\n",
    "            coos = np.mean(coos, axis=0)\n",
    "            res_coo.append(coos.tolist())\n",
    "        \n"
   ]
  },
  {
   "cell_type": "code",
   "execution_count": null,
   "metadata": {},
   "outputs": [],
   "source": []
  }
 ]
}