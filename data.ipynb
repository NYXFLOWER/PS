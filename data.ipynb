{
 "cells": [
  {
   "cell_type": "code",
   "execution_count": 2,
   "metadata": {
    "pycharm": {
     "is_executing": false
    }
   },
   "outputs": [],
   "source": [
    "import pandas as pd\n",
    "import numpy as np\n",
    "import matplotlib.pyplot as plt\n",
    "import pickle\n",
    "import requests\n",
    "import re\n",
    "from Bio.Blast import NCBIWWW"
   ]
  },
  {
   "cell_type": "markdown",
   "metadata": {
    "pycharm": {
     "is_executing": false,
     "name": "#%% md\n"
    }
   },
   "source": [
    "## Dataset Construction\n",
    "### Load amino acid sequence and its solubility (soluble or insoluble) from DeepSol"
   ]
  },
  {
   "cell_type": "code",
   "execution_count": 3,
   "outputs": [
    {
     "name": "stdout",
     "text": [
      "There are 71419 samples in the DeepSol datasets\n"
     ],
     "output_type": "stream"
    }
   ],
   "source": [
    "path = './data/deepsol/'\n",
    "aa_seq = np.concatenate((np.loadtxt(path+'train_src', dtype='str'), \n",
    "                        np.loadtxt(path+'test_src', dtype='str'), \n",
    "                        np.loadtxt(path+'val_src', dtype='str')), axis=0)\n",
    "sol = np.concatenate((np.loadtxt(path+'train_tgt', dtype=int),\n",
    "                      np.loadtxt(path+'test_tgt', dtype=int),\n",
    "                      np.loadtxt(path+'val_tgt', dtype=int)), axis=0)\n",
    "assert aa_seq.shape[0] == sol.shape[0]\n",
    "print('There are {:d} samples in the DeepSol datasets'.format(aa_seq.shape[0]))"
   ],
   "metadata": {
    "collapsed": false,
    "pycharm": {
     "name": "#%%\n",
     "is_executing": false
    }
   }
  },
  {
   "cell_type": "markdown",
   "source": [
    "### Blast with 'blastp'"
   ],
   "metadata": {
    "collapsed": false,
    "pycharm": {
     "name": "#%% md\n"
    }
   }
  },
  {
   "cell_type": "code",
   "execution_count": 3,
   "metadata": {
    "pycharm": {
     "is_executing": false
    }
   },
   "outputs": [
    {
     "traceback": [
      "\u001b[1;31m---------------------------------------------------------------------------\u001b[0m",
      "\u001b[1;31mNameError\u001b[0m                                 Traceback (most recent call last)",
      "\u001b[1;32m<ipython-input-3-475601532276>\u001b[0m in \u001b[0;36m<module>\u001b[1;34m\u001b[0m\n\u001b[0;32m      1\u001b[0m \u001b[0mi\u001b[0m \u001b[1;33m=\u001b[0m \u001b[1;36m0\u001b[0m\u001b[1;33m\u001b[0m\u001b[1;33m\u001b[0m\u001b[0m\n\u001b[1;32m----> 2\u001b[1;33m \u001b[0mresult_handle\u001b[0m \u001b[1;33m=\u001b[0m \u001b[0mNCBIWWW\u001b[0m\u001b[1;33m.\u001b[0m\u001b[0mqblast\u001b[0m\u001b[1;33m(\u001b[0m\u001b[1;34m\"blastp\"\u001b[0m\u001b[1;33m,\u001b[0m \u001b[1;34m\"nr\"\u001b[0m\u001b[1;33m,\u001b[0m \u001b[0maa_seq\u001b[0m\u001b[1;33m[\u001b[0m\u001b[0mi\u001b[0m\u001b[1;33m]\u001b[0m\u001b[1;33m)\u001b[0m\u001b[1;33m\u001b[0m\u001b[1;33m\u001b[0m\u001b[0m\n\u001b[0m\u001b[0;32m      3\u001b[0m \u001b[0mtmp\u001b[0m \u001b[1;33m=\u001b[0m \u001b[0mresult_handle\u001b[0m\u001b[1;33m.\u001b[0m\u001b[0mread\u001b[0m\u001b[1;33m(\u001b[0m\u001b[1;33m)\u001b[0m                                     \u001b[1;31m# query result -> string\u001b[0m\u001b[1;33m\u001b[0m\u001b[1;33m\u001b[0m\u001b[0m\n\u001b[0;32m      4\u001b[0m \u001b[1;32mwith\u001b[0m \u001b[0mopen\u001b[0m\u001b[1;33m(\u001b[0m\u001b[1;34m'./blastp_result/{:d}.txt'\u001b[0m\u001b[1;33m.\u001b[0m\u001b[0mformat\u001b[0m\u001b[1;33m(\u001b[0m\u001b[0mi\u001b[0m\u001b[1;33m)\u001b[0m\u001b[1;33m,\u001b[0m \u001b[1;34m'w'\u001b[0m\u001b[1;33m)\u001b[0m \u001b[1;32mas\u001b[0m \u001b[0mf\u001b[0m\u001b[1;33m:\u001b[0m\u001b[1;33m\u001b[0m\u001b[1;33m\u001b[0m\u001b[0m\n\u001b[0;32m      5\u001b[0m     \u001b[0mf\u001b[0m\u001b[1;33m.\u001b[0m\u001b[0mwrite\u001b[0m\u001b[1;33m(\u001b[0m\u001b[0mtmp\u001b[0m\u001b[1;33m)\u001b[0m                                               \u001b[1;31m# write query results to file\u001b[0m\u001b[1;33m\u001b[0m\u001b[1;33m\u001b[0m\u001b[0m\n",
      "\u001b[1;31mNameError\u001b[0m: name 'aa_seq' is not defined"
     ],
     "ename": "NameError",
     "evalue": "name 'aa_seq' is not defined",
     "output_type": "error"
    }
   ],
   "source": [
    "i = 0\n",
    "result_handle = NCBIWWW.qblast(\"blastp\", \"nr\", aa_seq[i])\n",
    "tmp = result_handle.read()                                     # query result -> string\n",
    "with open('./blastp_result/{:d}.txt'.format(i), 'w') as f:\n",
    "    f.write(tmp)                                               # write query results to file\n",
    "rc_st = re.compile(r'\\<Hit\\_id\\>')\n",
    "rc_ed = re.compile(r'\\|\\<\\/Hit\\_id\\>')\n",
    "sequence_id = tmp[rc_st.search(tmp).span()[1]: rc_ed.search(tmp).span()[0]]\n",
    "sequence_id = sequence_id.split('|')[-1]\n",
    "\n",
    "# Printing multiple outputs per cell\n",
    "from IPython.core.interactiveshell import InteractiveShell\n",
    "InteractiveShell.ast_node_interactivity = \"all\""
   ]
  },
  {
   "cell_type": "markdown",
   "source": [
    "### Blast Sequence_id to GeneID"
   ],
   "metadata": {
    "collapsed": false,
    "pycharm": {
     "name": "#%% md\n"
    }
   }
  },
  {
   "cell_type": "code",
   "execution_count": null,
   "outputs": [],
   "source": [
    "a = requests.get('https://www.ncbi.nlm.nih.gov/protein/XP_001351225.1')\n",
    "from ssbio.pipeline.gempro import GEMPRO\n",
    "\n",
    "\n",
    "with open('./blastp_result/{:d}.txt'.format(i), 'r') as f:\n",
    "    f.write(a.content)\n",
    "    \n",
    "# use ncbi_uid\n",
    "b = requests.get('https://www.ncbi.nlm.nih.gov/sviewer/viewer.fcgi?id=124504967')\n",
    "with open('./bbb.txt', 'wb') as f:\n",
    "    f.write(a.content)\n",
    "    \n",
    "# use GeneID"
   ],
   "metadata": {
    "collapsed": false,
    "pycharm": {
     "name": "#%%\n"
    }
   }
  },
  {
   "cell_type": "code",
   "execution_count": null,
   "outputs": [],
   "source": [],
   "metadata": {
    "collapsed": false,
    "pycharm": {
     "name": "#%%\n",
     "is_executing": true
    }
   }
  },
  {
   "cell_type": "code",
   "execution_count": null,
   "outputs": [],
   "source": [
    "\n"
   ],
   "metadata": {
    "collapsed": false,
    "pycharm": {
     "name": "#%%\n",
     "is_executing": true
    }
   }
  }
 ],
 "metadata": {
  "kernelspec": {
   "name": "pycharm-eb01d402",
   "language": "python",
   "display_name": "PyCharm (PS)"
  },
  "language_info": {
   "codemirror_mode": {
    "name": "ipython",
    "version": 3
   },
   "file_extension": ".py",
   "mimetype": "text/x-python",
   "name": "python",
   "nbconvert_exporter": "python",
   "pygments_lexer": "ipython3",
   "version": "3.7.3"
  },
  "pycharm": {
   "stem_cell": {
    "cell_type": "raw",
    "source": [],
    "metadata": {
     "collapsed": false
    }
   }
  }
 },
 "nbformat": 4,
 "nbformat_minor": 4
}